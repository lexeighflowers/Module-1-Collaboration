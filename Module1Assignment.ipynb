{
 "cells": [
  {
   "cell_type": "code",
   "execution_count": null,
   "id": "49632ec3-404d-4c12-b162-9a93517fbc14",
   "metadata": {},
   "outputs": [],
   "source": [
    "### Question 3.1 \n",
    "To calculate the number of seconds in an hour, multiply 60 seconds by 60 minutes\n",
    "\n",
    "# Calculation \n",
    "seconds_in_minute = 60\n",
    "minutes_in_hour = 60\n",
    "seconds_in_hour = seconds_in_minute * minutes_in_hour\n",
    "seconds_in_hour\n",
    "# Answer: 3600\n",
    "\n",
    "### 3.2 Assign the result from the previous task to a variable called seconds_per_hour\n",
    "seconds_per_hour = seconds_in_hour\n",
    "seconds_per_hour\n",
    "\n",
    "### 3.3 How many seconds are in a day?\n",
    "`seconds_per_hour` variable multiplied by 24 to get the total seconds in a day\n",
    "# Answer: 86400\n",
    "\n",
    "# Calculation \n",
    "hours_in_day = 24\n",
    "seconds_in_day = seconds_per_hour * hours_in_day\n",
    "seconds_in_day\n",
    "\n",
    "### 3.4 Save the seconds in a day to a variable called seconds_per_day\n",
    "seconds_per_day = seconds_in_day\n",
    "seconds_per_day\n",
    "\n",
    "### 3.5 Divide seconds_per_day by seconds_per_hour using floating-point division\n",
    "seconds_per_day / seconds_per_hour\n",
    "# Answer: 24.0\n",
    "\n",
    "### 3.6 Divide seconds_per_day by seconds_per_hour using integer division\n",
    "seconds_per_day // seconds_per_hour\n",
    "# Answer: 24\n",
    "\n",
    "\n",
    "\n",
    "\n",
    "\n",
    "\n",
    "\n",
    "\n",
    "\n"
   ]
  }
 ],
 "metadata": {
  "kernelspec": {
   "display_name": "Python 3 (ipykernel)",
   "language": "python",
   "name": "python3"
  },
  "language_info": {
   "codemirror_mode": {
    "name": "ipython",
    "version": 3
   },
   "file_extension": ".py",
   "mimetype": "text/x-python",
   "name": "python",
   "nbconvert_exporter": "python",
   "pygments_lexer": "ipython3",
   "version": "3.12.4"
  }
 },
 "nbformat": 4,
 "nbformat_minor": 5
}
